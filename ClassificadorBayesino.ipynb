{
  "nbformat": 4,
  "nbformat_minor": 0,
  "metadata": {
    "colab": {
      "provenance": [],
      "collapsed_sections": []
    },
    "kernelspec": {
      "name": "python3",
      "display_name": "Python 3"
    },
    "language_info": {
      "name": "python"
    }
  },
  "cells": [
    {
      "cell_type": "markdown",
      "source": [
        "# **Classificador Bayesiano - SME0828 - Introdução à Ciência de Dados**\n",
        "\n",
        "### Amanda Caroline de Oliveira Pires\n"
      ],
      "metadata": {
        "id": "4xWPbBxUxHY7"
      }
    },
    {
      "cell_type": "markdown",
      "source": [
        "## **Bibliotecas e funções**\n",
        "\n",
        "Bibliotecas:"
      ],
      "metadata": {
        "id": "5MWnE3k2yHdX"
      }
    },
    {
      "cell_type": "code",
      "source": [
        "import pandas as pd\n",
        "import statistics\n",
        "import matplotlib.pyplot as plt\n",
        "import numpy as np\n",
        "import sklearn.datasets as skdata\n",
        "import random\n"
      ],
      "metadata": {
        "id": "9mt5CGfmyUIA"
      },
      "execution_count": 3,
      "outputs": []
    },
    {
      "cell_type": "markdown",
      "source": [
        "Funções:\n"
      ],
      "metadata": {
        "id": "oLZVFFIYyXJM"
      }
    },
    {
      "cell_type": "code",
      "source": [
        "from scipy.spatial import distance\n",
        "from sklearn.preprocessing import StandardScaler\n",
        "from sklearn.neighbors import KNeighborsClassifier\n",
        "from sklearn.model_selection import train_test_split\n",
        "from sklearn.metrics import accuracy_score\n",
        "from mlxtend.plotting import plot_decision_regions\n",
        "from sklearn import datasets\n",
        "from matplotlib import pyplot\n",
        "from pandas import DataFrame\n",
        "from scipy.spatial import Voronoi, voronoi_plot_2d\n",
        "from sklearn import linear_model\n",
        "from scipy.special import expit\n",
        "from sklearn.linear_model import LogisticRegression\n",
        "from sklearn.model_selection import cross_validate\n",
        "from numpy.lib import index_tricks\n",
        "from sklearn import metrics\n",
        "from scipy.stats import multivariate_normal\n",
        "from sklearn.neighbors import KernelDensity"
      ],
      "metadata": {
        "id": "iiPG9qcuyZHM"
      },
      "execution_count": 4,
      "outputs": []
    },
    {
      "cell_type": "markdown",
      "source": [
        "**1-** Considerando a base de dados Vehicle, encontre o melhor classificador dentre os métodos k-vizinhos, Naive Bayes, regressão logística, classificador Bayesiano e classificador Bayesino não-paramétrico."
      ],
      "metadata": {
        "id": "H9CplvA2x6iI"
      }
    },
    {
      "cell_type": "code",
      "execution_count": null,
      "metadata": {
        "id": "lBZRinHUw-EU"
      },
      "outputs": [],
      "source": [
        "# leitura dos dados\n",
        "vehicle = pd.read_csv('/content/Vehicle.csv', header=(0))\n",
        "#display(vehicle)\n",
        "\n",
        "vehicle = vehicle.to_numpy()\n",
        "nrow,ncol = vehicle.shape\n",
        "y = vehicle[:,-1]\n",
        "X = vehicle[:,0:ncol-1]"
      ]
    },
    {
      "cell_type": "markdown",
      "source": [
        "# **Método K-vizinhos** "
      ],
      "metadata": {
        "id": "LE43PbeXzX9N"
      }
    },
    {
      "cell_type": "code",
      "source": [
        "# Normalizando os dados\n",
        "scaler = StandardScaler().fit(X)\n",
        "X = scaler.transform(X)\n",
        "\n",
        "# estatísticas\n",
        "print('Dados transformados:')\n",
        "print('Media: ', np.mean(X, axis = 0))\n",
        "print('Desvio Padrao:', np.std(X, axis = 0))"
      ],
      "metadata": {
        "colab": {
          "base_uri": "https://localhost:8080/"
        },
        "id": "8JYyjqHKzfe1",
        "outputId": "bcd11209-5d15-4c7c-a3e1-dd3ec42a381e"
      },
      "execution_count": null,
      "outputs": [
        {
          "output_type": "stream",
          "name": "stdout",
          "text": [
            "Dados transformados:\n",
            "Media:  [ 5.87919521e-16 -3.14956886e-16 -3.65349988e-16 -1.67977006e-16\n",
            "  3.77948264e-17 -1.63777581e-16 -3.56951138e-16  1.72176431e-16\n",
            "  1.67977006e-17  8.27286755e-16 -9.02876408e-17 -1.46979880e-16\n",
            "  3.73748839e-16 -6.92905150e-16 -5.24928144e-17 -2.93959761e-17\n",
            " -1.31022065e-15  1.52649104e-15]\n",
            "Desvio Padrao: [1. 1. 1. 1. 1. 1. 1. 1. 1. 1. 1. 1. 1. 1. 1. 1. 1. 1.]\n"
          ]
        }
      ]
    },
    {
      "cell_type": "code",
      "source": [
        "# Definindo conjunto de teste e de treino\n",
        "p = 0.7 \n",
        "x_train, x_test, y_train, y_test = train_test_split(X, y, train_size = p, random_state = 42)\n",
        "\n",
        "# Realizando a classificação pelo método k-vizinhos \n",
        "\n",
        "k = 5 # numero de vizinhos\n",
        "# ajusta o modelo k-vizinhos\n",
        "model = KNeighborsClassifier(n_neighbors=k, metric = 'euclidean')\n",
        "model.fit(x_train,y_train)\n",
        "# faz a predição no conjunto de teste\n",
        "y_pred = model.predict(x_test) \n",
        "\n",
        "\n",
        "# Calculando a acurácia \n",
        "score = accuracy_score(y_pred, y_test)\n",
        "print('Accuracy:', score)\n",
        "KNN = score\n",
        "#print(KNN)"
      ],
      "metadata": {
        "colab": {
          "base_uri": "https://localhost:8080/"
        },
        "id": "VB7aZTO80Mo9",
        "outputId": "754cd503-da80-4199-9af8-efec6820c689"
      },
      "execution_count": null,
      "outputs": [
        {
          "output_type": "stream",
          "name": "stdout",
          "text": [
            "Accuracy: 0.6338582677165354\n",
            "0.6338582677165354\n"
          ]
        }
      ]
    },
    {
      "cell_type": "markdown",
      "source": [
        "# **Naive Bayes**"
      ],
      "metadata": {
        "id": "9e_LIwXlL_cB"
      }
    },
    {
      "cell_type": "code",
      "source": [
        "vehicle = pd.read_csv('/content/Vehicle.csv', header=(0))\n",
        "vehicle = vehicle.dropna(axis='rows') #remove NaN\n",
        "# armazena os nomes das classes\n",
        "classes = np.array(pd.unique(vehicle[vehicle.columns[-1]]), dtype=str)  \n",
        "\n",
        "print(\"Número de linhas e colunas na matriz de atributos:\", vehicle.shape)\n",
        "attributes = list(vehicle.columns)"
      ],
      "metadata": {
        "colab": {
          "base_uri": "https://localhost:8080/"
        },
        "id": "jEDOhiY5MCAA",
        "outputId": "05fcaa48-1e75-4381-9419-0643b6d01940"
      },
      "execution_count": null,
      "outputs": [
        {
          "output_type": "stream",
          "name": "stdout",
          "text": [
            "Número de linhas e colunas na matriz de atributos: (846, 19)\n"
          ]
        }
      ]
    },
    {
      "cell_type": "code",
      "source": [
        "vehicle = vehicle.to_numpy()\n",
        "nrow,ncol = vehicle.shape\n",
        "y = vehicle[:,-1]\n",
        "X = vehicle[:,0:ncol-1]"
      ],
      "metadata": {
        "id": "mcpUVjaaNQ-K"
      },
      "execution_count": null,
      "outputs": []
    },
    {
      "cell_type": "markdown",
      "source": [
        "Selecionando os conjuntos de treinamento e teste"
      ],
      "metadata": {
        "id": "AIjpyZQHQZGp"
      }
    },
    {
      "cell_type": "code",
      "source": [
        "p = 0.7 # fracao de elementos no conjunto de treinamento\n",
        "X_train, X_test, y_train, y_test = train_test_split(X, y, train_size = p, random_state = 42)"
      ],
      "metadata": {
        "id": "nfHbza-rNeqx"
      },
      "execution_count": null,
      "outputs": []
    },
    {
      "cell_type": "markdown",
      "source": [
        "Definindo a função verossimilhança"
      ],
      "metadata": {
        "id": "48IKBfGJQViI"
      }
    },
    {
      "cell_type": "code",
      "source": [
        "def likelyhood(y, Z):\n",
        "    def gaussian(x, mu, sig):\n",
        "        p = (1/np.sqrt(2*np.pi*sig))*np.exp((-1/2)*((x-mu)/sig)**2)\n",
        "        return p \n",
        "    lk = 1\n",
        "    for j in np.arange(0, Z.shape[1]):\n",
        "        m = np.mean(Z[:,j])\n",
        "        s = np.std(Z[:,j])      \n",
        "        lk = lk*gaussian(y[j], m, s)\n",
        "    return lk"
      ],
      "metadata": {
        "id": "VuwH5FT-NteJ"
      },
      "execution_count": null,
      "outputs": []
    },
    {
      "cell_type": "markdown",
      "source": [
        "Estimação para cada classe"
      ],
      "metadata": {
        "id": "8y5h5Jc9QRJg"
      }
    },
    {
      "cell_type": "code",
      "source": [
        "P = pd.DataFrame(data=np.zeros((X_test.shape[0], len(classes))), columns = classes) \n",
        "for i in np.arange(0, len(classes)):\n",
        "    elements = tuple(np.where(y_train == classes[i]))\n",
        "    Z = X_train[elements,:][0]\n",
        "    for j in np.arange(0,X_test.shape[0]):\n",
        "        x = X_test[j,:]\n",
        "        pj = likelyhood(x,Z)\n",
        "        priori = len(elements)/X_train.shape[0]\n",
        "        P[classes[i]][j] = pj*priori"
      ],
      "metadata": {
        "id": "UXAwNrgCN2za"
      },
      "execution_count": null,
      "outputs": []
    },
    {
      "cell_type": "markdown",
      "source": [
        "Para as observações no conjunto de teste, a probabilidade pertencer a cada classe:"
      ],
      "metadata": {
        "id": "xY_W1NcwQj05"
      }
    },
    {
      "cell_type": "code",
      "source": [
        "P.head(10)"
      ],
      "metadata": {
        "colab": {
          "base_uri": "https://localhost:8080/",
          "height": 363
        },
        "id": "atO6gQzrOafA",
        "outputId": "e8a14a7b-52fa-4f14-f1c6-2a99bac16e00"
      },
      "execution_count": null,
      "outputs": [
        {
          "output_type": "execute_result",
          "data": {
            "text/plain": [
              "            van          saab           bus          opel\n",
              "0  1.115872e-22  1.230187e-25  9.779233e-22  4.896625e-25\n",
              "1  9.011668e-22  1.365758e-27  1.071111e-24  3.422857e-27\n",
              "2  9.583113e-22  1.896380e-26  1.849439e-22  6.378875e-26\n",
              "3  6.691389e-21  1.008691e-23  2.859881e-24  8.790089e-24\n",
              "4  7.152896e-23  6.692383e-26  7.936690e-22  3.132231e-25\n",
              "5  2.341960e-20  7.375643e-23  3.596871e-22  7.263769e-23\n",
              "6  1.234321e-21  1.123891e-22  8.840228e-23  6.540702e-23\n",
              "7  2.049747e-50  3.698969e-22  3.508341e-27  2.057507e-22\n",
              "8  2.457333e-21  8.329697e-26  3.314046e-22  2.907762e-25\n",
              "9  5.888369e-53  7.896269e-23  2.006499e-29  2.602899e-23"
            ],
            "text/html": [
              "\n",
              "  <div id=\"df-2daf51f8-edad-4f18-b803-c0ecf6562831\">\n",
              "    <div class=\"colab-df-container\">\n",
              "      <div>\n",
              "<style scoped>\n",
              "    .dataframe tbody tr th:only-of-type {\n",
              "        vertical-align: middle;\n",
              "    }\n",
              "\n",
              "    .dataframe tbody tr th {\n",
              "        vertical-align: top;\n",
              "    }\n",
              "\n",
              "    .dataframe thead th {\n",
              "        text-align: right;\n",
              "    }\n",
              "</style>\n",
              "<table border=\"1\" class=\"dataframe\">\n",
              "  <thead>\n",
              "    <tr style=\"text-align: right;\">\n",
              "      <th></th>\n",
              "      <th>van</th>\n",
              "      <th>saab</th>\n",
              "      <th>bus</th>\n",
              "      <th>opel</th>\n",
              "    </tr>\n",
              "  </thead>\n",
              "  <tbody>\n",
              "    <tr>\n",
              "      <th>0</th>\n",
              "      <td>1.115872e-22</td>\n",
              "      <td>1.230187e-25</td>\n",
              "      <td>9.779233e-22</td>\n",
              "      <td>4.896625e-25</td>\n",
              "    </tr>\n",
              "    <tr>\n",
              "      <th>1</th>\n",
              "      <td>9.011668e-22</td>\n",
              "      <td>1.365758e-27</td>\n",
              "      <td>1.071111e-24</td>\n",
              "      <td>3.422857e-27</td>\n",
              "    </tr>\n",
              "    <tr>\n",
              "      <th>2</th>\n",
              "      <td>9.583113e-22</td>\n",
              "      <td>1.896380e-26</td>\n",
              "      <td>1.849439e-22</td>\n",
              "      <td>6.378875e-26</td>\n",
              "    </tr>\n",
              "    <tr>\n",
              "      <th>3</th>\n",
              "      <td>6.691389e-21</td>\n",
              "      <td>1.008691e-23</td>\n",
              "      <td>2.859881e-24</td>\n",
              "      <td>8.790089e-24</td>\n",
              "    </tr>\n",
              "    <tr>\n",
              "      <th>4</th>\n",
              "      <td>7.152896e-23</td>\n",
              "      <td>6.692383e-26</td>\n",
              "      <td>7.936690e-22</td>\n",
              "      <td>3.132231e-25</td>\n",
              "    </tr>\n",
              "    <tr>\n",
              "      <th>5</th>\n",
              "      <td>2.341960e-20</td>\n",
              "      <td>7.375643e-23</td>\n",
              "      <td>3.596871e-22</td>\n",
              "      <td>7.263769e-23</td>\n",
              "    </tr>\n",
              "    <tr>\n",
              "      <th>6</th>\n",
              "      <td>1.234321e-21</td>\n",
              "      <td>1.123891e-22</td>\n",
              "      <td>8.840228e-23</td>\n",
              "      <td>6.540702e-23</td>\n",
              "    </tr>\n",
              "    <tr>\n",
              "      <th>7</th>\n",
              "      <td>2.049747e-50</td>\n",
              "      <td>3.698969e-22</td>\n",
              "      <td>3.508341e-27</td>\n",
              "      <td>2.057507e-22</td>\n",
              "    </tr>\n",
              "    <tr>\n",
              "      <th>8</th>\n",
              "      <td>2.457333e-21</td>\n",
              "      <td>8.329697e-26</td>\n",
              "      <td>3.314046e-22</td>\n",
              "      <td>2.907762e-25</td>\n",
              "    </tr>\n",
              "    <tr>\n",
              "      <th>9</th>\n",
              "      <td>5.888369e-53</td>\n",
              "      <td>7.896269e-23</td>\n",
              "      <td>2.006499e-29</td>\n",
              "      <td>2.602899e-23</td>\n",
              "    </tr>\n",
              "  </tbody>\n",
              "</table>\n",
              "</div>\n",
              "      <button class=\"colab-df-convert\" onclick=\"convertToInteractive('df-2daf51f8-edad-4f18-b803-c0ecf6562831')\"\n",
              "              title=\"Convert this dataframe to an interactive table.\"\n",
              "              style=\"display:none;\">\n",
              "        \n",
              "  <svg xmlns=\"http://www.w3.org/2000/svg\" height=\"24px\"viewBox=\"0 0 24 24\"\n",
              "       width=\"24px\">\n",
              "    <path d=\"M0 0h24v24H0V0z\" fill=\"none\"/>\n",
              "    <path d=\"M18.56 5.44l.94 2.06.94-2.06 2.06-.94-2.06-.94-.94-2.06-.94 2.06-2.06.94zm-11 1L8.5 8.5l.94-2.06 2.06-.94-2.06-.94L8.5 2.5l-.94 2.06-2.06.94zm10 10l.94 2.06.94-2.06 2.06-.94-2.06-.94-.94-2.06-.94 2.06-2.06.94z\"/><path d=\"M17.41 7.96l-1.37-1.37c-.4-.4-.92-.59-1.43-.59-.52 0-1.04.2-1.43.59L10.3 9.45l-7.72 7.72c-.78.78-.78 2.05 0 2.83L4 21.41c.39.39.9.59 1.41.59.51 0 1.02-.2 1.41-.59l7.78-7.78 2.81-2.81c.8-.78.8-2.07 0-2.86zM5.41 20L4 18.59l7.72-7.72 1.47 1.35L5.41 20z\"/>\n",
              "  </svg>\n",
              "      </button>\n",
              "      \n",
              "  <style>\n",
              "    .colab-df-container {\n",
              "      display:flex;\n",
              "      flex-wrap:wrap;\n",
              "      gap: 12px;\n",
              "    }\n",
              "\n",
              "    .colab-df-convert {\n",
              "      background-color: #E8F0FE;\n",
              "      border: none;\n",
              "      border-radius: 50%;\n",
              "      cursor: pointer;\n",
              "      display: none;\n",
              "      fill: #1967D2;\n",
              "      height: 32px;\n",
              "      padding: 0 0 0 0;\n",
              "      width: 32px;\n",
              "    }\n",
              "\n",
              "    .colab-df-convert:hover {\n",
              "      background-color: #E2EBFA;\n",
              "      box-shadow: 0px 1px 2px rgba(60, 64, 67, 0.3), 0px 1px 3px 1px rgba(60, 64, 67, 0.15);\n",
              "      fill: #174EA6;\n",
              "    }\n",
              "\n",
              "    [theme=dark] .colab-df-convert {\n",
              "      background-color: #3B4455;\n",
              "      fill: #D2E3FC;\n",
              "    }\n",
              "\n",
              "    [theme=dark] .colab-df-convert:hover {\n",
              "      background-color: #434B5C;\n",
              "      box-shadow: 0px 1px 3px 1px rgba(0, 0, 0, 0.15);\n",
              "      filter: drop-shadow(0px 1px 2px rgba(0, 0, 0, 0.3));\n",
              "      fill: #FFFFFF;\n",
              "    }\n",
              "  </style>\n",
              "\n",
              "      <script>\n",
              "        const buttonEl =\n",
              "          document.querySelector('#df-2daf51f8-edad-4f18-b803-c0ecf6562831 button.colab-df-convert');\n",
              "        buttonEl.style.display =\n",
              "          google.colab.kernel.accessAllowed ? 'block' : 'none';\n",
              "\n",
              "        async function convertToInteractive(key) {\n",
              "          const element = document.querySelector('#df-2daf51f8-edad-4f18-b803-c0ecf6562831');\n",
              "          const dataTable =\n",
              "            await google.colab.kernel.invokeFunction('convertToInteractive',\n",
              "                                                     [key], {});\n",
              "          if (!dataTable) return;\n",
              "\n",
              "          const docLinkHtml = 'Like what you see? Visit the ' +\n",
              "            '<a target=\"_blank\" href=https://colab.research.google.com/notebooks/data_table.ipynb>data table notebook</a>'\n",
              "            + ' to learn more about interactive tables.';\n",
              "          element.innerHTML = '';\n",
              "          dataTable['output_type'] = 'display_data';\n",
              "          await google.colab.output.renderOutput(dataTable, element);\n",
              "          const docLink = document.createElement('div');\n",
              "          docLink.innerHTML = docLinkHtml;\n",
              "          element.appendChild(docLink);\n",
              "        }\n",
              "      </script>\n",
              "    </div>\n",
              "  </div>\n",
              "  "
            ]
          },
          "metadata": {},
          "execution_count": 31
        }
      ]
    },
    {
      "cell_type": "markdown",
      "source": [
        "Calculando a acurácia"
      ],
      "metadata": {
        "id": "_GhwmKDMQKfZ"
      }
    },
    {
      "cell_type": "code",
      "source": [
        "y_pred = []\n",
        "for i in np.arange(0, P.shape[0]):\n",
        "    c = np.argmax(np.array(P.iloc[[i]]))\n",
        "    y_pred.append(P.columns[c])\n",
        "y_pred = np.array(y_pred, dtype=str)\n",
        "\n",
        "score = accuracy_score(y_pred, y_test)\n",
        "print('Accuracy:', score)\n",
        "\n",
        "NaiveBayes = score\n",
        "#print(NaiveBayes)"
      ],
      "metadata": {
        "colab": {
          "base_uri": "https://localhost:8080/"
        },
        "id": "dmyDpRFXOrcB",
        "outputId": "bb7aca44-c0fa-42b7-a6bc-c8bf625de73d"
      },
      "execution_count": null,
      "outputs": [
        {
          "output_type": "stream",
          "name": "stdout",
          "text": [
            "Accuracy: 0.452755905511811\n",
            "0.452755905511811\n"
          ]
        }
      ]
    },
    {
      "cell_type": "markdown",
      "source": [
        "# **Regressão logística**"
      ],
      "metadata": {
        "id": "vakGpBOmPb5K"
      }
    },
    {
      "cell_type": "code",
      "source": [
        "vehicle = pd.read_csv('/content/Vehicle.csv', header=(0))\n",
        "vehicle = vehicle.dropna(axis='rows') #remove NaN\n",
        "# armazena os nomes das classes\n",
        "classes = np.array(pd.unique(vehicle[vehicle.columns[-1]]), dtype=str)  \n",
        "\n",
        "print(\"Número de linhas e colunas na matriz de atributos:\", vehicle.shape)\n",
        "attributes = list(vehicle.columns)"
      ],
      "metadata": {
        "colab": {
          "base_uri": "https://localhost:8080/"
        },
        "id": "VRtm_hJiPktB",
        "outputId": "f9d43beb-9d5b-4524-b1d2-94cfa69105cc"
      },
      "execution_count": null,
      "outputs": [
        {
          "output_type": "stream",
          "name": "stdout",
          "text": [
            "Número de linhas e colunas na matriz de atributos: (846, 19)\n"
          ]
        }
      ]
    },
    {
      "cell_type": "markdown",
      "source": [
        "Convertendo para o formato Numpy e normalizando:"
      ],
      "metadata": {
        "id": "aRT8E5qqQCma"
      }
    },
    {
      "cell_type": "code",
      "source": [
        "vehicle = vehicle.to_numpy()\n",
        "nrow,ncol = vehicle.shape\n",
        "y = vehicle[:,-1]\n",
        "X = vehicle[:,0:ncol-1]\n",
        "\n",
        "scaler = StandardScaler().fit(X)\n",
        "X = scaler.transform(X)"
      ],
      "metadata": {
        "id": "vOtTScm9QC9J"
      },
      "execution_count": null,
      "outputs": []
    },
    {
      "cell_type": "markdown",
      "source": [
        "Selecionamos os conjunto de treinamento e teste usando o método hold-out."
      ],
      "metadata": {
        "id": "_odrX82OQpii"
      }
    },
    {
      "cell_type": "code",
      "source": [
        "p = 0.7  # fraction of elements in the test set\n",
        "x_train, x_test, y_train, y_test = train_test_split(X, y, test_size = p, random_state = 42)"
      ],
      "metadata": {
        "id": "eFSv0p-tQqF6"
      },
      "execution_count": null,
      "outputs": []
    },
    {
      "cell_type": "markdown",
      "source": [
        "Realizando a classificação por regressão logística:"
      ],
      "metadata": {
        "id": "qBTjXjGuQsZq"
      }
    },
    {
      "cell_type": "code",
      "source": [
        "model = LogisticRegression(solver = 'lbfgs', multi_class = 'auto', max_iter = 1000)\n",
        "model.fit(x_train, y_train)\n",
        "\n",
        "y_pred = model.predict(x_test)\n",
        "print('Acurácia: ', model.score(x_test, y_test))\n",
        "Regressãologística = model.score(x_test, y_test)\n",
        "#print(Regressãologística)"
      ],
      "metadata": {
        "colab": {
          "base_uri": "https://localhost:8080/"
        },
        "id": "MkIJ5qeXQuxR",
        "outputId": "31522b80-3492-453f-beb6-c6023f11ab97"
      },
      "execution_count": null,
      "outputs": [
        {
          "output_type": "stream",
          "name": "stdout",
          "text": [
            "Acurácia:  0.7757166947723441\n",
            "0.7757166947723441\n"
          ]
        }
      ]
    },
    {
      "cell_type": "markdown",
      "source": [
        "# **Classificador Bayesiano**"
      ],
      "metadata": {
        "id": "MnBUkfpFRnJX"
      }
    },
    {
      "cell_type": "code",
      "source": [
        "vehicle = pd.read_csv('/content/Vehicle.csv', header=(0))\n",
        "\n",
        "vehicle = vehicle.dropna(axis='rows') #remove NaN\n",
        "# armazena os nomes das classes\n",
        "\n",
        "nrow, ncol = vehicle.shape\n",
        "print(\"Matriz de atributos: Número de linhas:\", nrow, \" colunas: \", ncol)\n",
        "attributes = list(vehicle.columns)\n",
        "#vehicle.head(10)"
      ],
      "metadata": {
        "colab": {
          "base_uri": "https://localhost:8080/"
        },
        "id": "Bhf5fzrERqXe",
        "outputId": "f50e20e9-1275-4660-c666-49dbdfd1c5c8"
      },
      "execution_count": null,
      "outputs": [
        {
          "output_type": "stream",
          "name": "stdout",
          "text": [
            "Matriz de atributos: Número de linhas: 846  colunas:  19\n"
          ]
        }
      ]
    },
    {
      "cell_type": "markdown",
      "source": [
        "convertendo os dados para o formato Numpy para facilitar a sua manipulação:"
      ],
      "metadata": {
        "id": "EXwGh1wCSisR"
      }
    },
    {
      "cell_type": "code",
      "source": [
        "y = vehicle.iloc[:,-1]\n",
        "classes = np.array(pd.unique(y))\n",
        "vehicle = vehicle.to_numpy()\n",
        "nrow,ncol = vehicle.shape\n",
        "X = vehicle[:,0:ncol-1]"
      ],
      "metadata": {
        "id": "BvxRzkk9SiQC"
      },
      "execution_count": null,
      "outputs": []
    },
    {
      "cell_type": "markdown",
      "source": [
        "Normalizando os dados, de modo a evitar o efeito da escala dos atributos:"
      ],
      "metadata": {
        "id": "7I5wrXu1SxwS"
      }
    },
    {
      "cell_type": "code",
      "source": [
        "from sklearn.preprocessing import StandardScaler\n",
        "scaler = StandardScaler().fit(X)\n",
        "X = scaler.transform(X)"
      ],
      "metadata": {
        "id": "_RF2t9nuS0lS"
      },
      "execution_count": null,
      "outputs": []
    },
    {
      "cell_type": "markdown",
      "source": [
        "Calculando estatísticas:\n"
      ],
      "metadata": {
        "id": "DSkUU0d5S5lb"
      }
    },
    {
      "cell_type": "code",
      "source": [
        "print('Dados transformados:')\n",
        "print('Media: ', np.mean(X, axis = 0))\n",
        "print('Desvio Padrao:', np.std(X, axis = 0))"
      ],
      "metadata": {
        "colab": {
          "base_uri": "https://localhost:8080/"
        },
        "id": "av9d6h1SS8SJ",
        "outputId": "833934da-52c2-4ff8-ea55-ef015994070c"
      },
      "execution_count": null,
      "outputs": [
        {
          "output_type": "stream",
          "name": "stdout",
          "text": [
            "Dados transformados:\n",
            "Media:  [ 5.87919521e-16 -3.14956886e-16 -3.65349988e-16 -1.67977006e-16\n",
            "  3.77948264e-17 -1.63777581e-16 -3.56951138e-16  1.72176431e-16\n",
            "  1.67977006e-17  8.27286755e-16 -9.02876408e-17 -1.46979880e-16\n",
            "  3.73748839e-16 -6.92905150e-16 -5.24928144e-17 -2.93959761e-17\n",
            " -1.31022065e-15  1.52649104e-15]\n",
            "Desvio Padrao: [1. 1. 1. 1. 1. 1. 1. 1. 1. 1. 1. 1. 1. 1. 1. 1. 1. 1.]\n"
          ]
        }
      ]
    },
    {
      "cell_type": "markdown",
      "source": [
        "Definindo conjunto de treinamento e de teste"
      ],
      "metadata": {
        "id": "kHoZRHqbTBby"
      }
    },
    {
      "cell_type": "code",
      "source": [
        "from sklearn.model_selection import train_test_split\n",
        "p = 0.7 # fracao de elementos no conjunto de treinamento\n",
        "X_train, X_test, y_train, y_test = train_test_split(X, y, train_size = p, random_state = 42)"
      ],
      "metadata": {
        "id": "hWtO8Y1lTGSx"
      },
      "execution_count": null,
      "outputs": []
    },
    {
      "cell_type": "markdown",
      "source": [
        "Realizando a classificação dos dados:\n",
        "\n",
        "O caso paramétrico, assume que cada variável está distribuída de acordo com uma distribuição Normal"
      ],
      "metadata": {
        "id": "BVErsTynTNdb"
      }
    },
    {
      "cell_type": "code",
      "source": [
        "#matrix to store the probabilities\n",
        "P = pd.DataFrame(data=np.zeros((X_test.shape[0], len(classes))), columns = classes) \n",
        "Pc = np.zeros(len(classes)) #fraction of elements in each class\n",
        "for i in np.arange(0, len(classes)):\n",
        "    elements = np.array(np.where(y_train == classes[i]))\n",
        "    Pc[i] = elements.shape[1]/len(y_train)\n",
        "    Z = X_train[elements,:][0].astype(float)\n",
        "    m = np.mean(Z, axis = 0)\n",
        "    cv = np.cov(np.transpose(Z))\n",
        "    for j in np.arange(0,X_test.shape[0]):\n",
        "        x = X_test[j,:]\n",
        "        pj = multivariate_normal.pdf(x, mean=m, cov=cv, allow_singular=True)\n",
        "        P[classes[i]][j] = pj*Pc[i]\n",
        "\n",
        "print(P)"
      ],
      "metadata": {
        "colab": {
          "base_uri": "https://localhost:8080/"
        },
        "id": "WAYhxMM1TRHi",
        "outputId": "c3fea63b-8b96-408e-8f7a-c44aacd52fcf"
      },
      "execution_count": null,
      "outputs": [
        {
          "output_type": "stream",
          "name": "stdout",
          "text": [
            "              van          saab           bus          opel\n",
            "0    8.076143e-12  2.526177e-13  9.078865e-03  5.145574e-12\n",
            "1    1.617468e-02  2.294716e-35  8.407576e-23  2.268767e-30\n",
            "2    2.446907e-07  1.454448e-07  7.667514e-02  1.319398e-07\n",
            "3    2.446517e-04  4.411233e-03  2.193775e-11  2.732935e-04\n",
            "4    3.532045e-05  3.684405e-04  4.040871e+00  5.670192e-03\n",
            "..            ...           ...           ...           ...\n",
            "249  0.000000e+00  1.013834e-28  2.951787e-05  1.047679e-18\n",
            "250  2.558244e-21  2.670497e-08  4.084146e-02  3.205941e-07\n",
            "251  8.576750e-07  2.495176e-05  2.327773e-07  5.819528e-04\n",
            "252  2.338568e-11  1.990739e-01  2.057809e-10  1.166538e-01\n",
            "253  7.280487e-01  1.215036e-25  3.530043e-24  1.033357e-20\n",
            "\n",
            "[254 rows x 4 columns]\n"
          ]
        }
      ]
    },
    {
      "cell_type": "markdown",
      "source": [
        "Classifica de acordo com a classe mais provável:"
      ],
      "metadata": {
        "id": "AzOkVEaBU7_y"
      }
    },
    {
      "cell_type": "code",
      "source": [
        "y_pred = []\n",
        "\n",
        "for i in np.arange(0, X_test.shape[0]):\n",
        "    c = np.argmax(np.array(P.iloc[[i]]))\n",
        "    y_pred.append(classes[c])\n",
        "y_pred = np.array(y_pred)\n",
        "y_test = np.array(y_test)\n",
        "print(y_pred)"
      ],
      "metadata": {
        "colab": {
          "base_uri": "https://localhost:8080/"
        },
        "id": "IhStIL3dU886",
        "outputId": "b9a091d3-506f-4eca-f8d9-67240b92d3fc"
      },
      "execution_count": null,
      "outputs": [
        {
          "output_type": "stream",
          "name": "stdout",
          "text": [
            "['bus' 'van' 'bus' 'saab' 'bus' 'van' 'van' 'saab' 'bus' 'saab' 'saab'\n",
            " 'bus' 'van' 'opel' 'opel' 'van' 'saab' 'bus' 'saab' 'opel' 'van' 'van'\n",
            " 'opel' 'opel' 'opel' 'saab' 'opel' 'van' 'van' 'van' 'opel' 'van' 'bus'\n",
            " 'van' 'van' 'bus' 'bus' 'saab' 'bus' 'opel' 'van' 'bus' 'opel' 'van'\n",
            " 'saab' 'saab' 'bus' 'van' 'bus' 'van' 'bus' 'bus' 'van' 'saab' 'bus'\n",
            " 'opel' 'saab' 'opel' 'saab' 'saab' 'bus' 'van' 'saab' 'bus' 'bus' 'bus'\n",
            " 'saab' 'saab' 'opel' 'opel' 'saab' 'bus' 'saab' 'bus' 'van' 'van' 'saab'\n",
            " 'opel' 'saab' 'van' 'bus' 'van' 'saab' 'saab' 'opel' 'saab' 'van' 'bus'\n",
            " 'van' 'saab' 'saab' 'opel' 'bus' 'bus' 'opel' 'bus' 'van' 'van' 'bus'\n",
            " 'opel' 'saab' 'saab' 'opel' 'van' 'bus' 'bus' 'saab' 'van' 'saab' 'opel'\n",
            " 'van' 'bus' 'van' 'bus' 'bus' 'van' 'bus' 'opel' 'bus' 'saab' 'bus'\n",
            " 'opel' 'saab' 'van' 'bus' 'saab' 'bus' 'van' 'bus' 'saab' 'bus' 'van'\n",
            " 'bus' 'saab' 'bus' 'bus' 'bus' 'saab' 'opel' 'bus' 'van' 'saab' 'bus'\n",
            " 'bus' 'van' 'opel' 'saab' 'opel' 'van' 'saab' 'opel' 'bus' 'bus' 'saab'\n",
            " 'van' 'van' 'bus' 'van' 'opel' 'bus' 'bus' 'van' 'saab' 'opel' 'opel'\n",
            " 'opel' 'saab' 'opel' 'saab' 'van' 'van' 'opel' 'saab' 'saab' 'bus' 'saab'\n",
            " 'opel' 'saab' 'van' 'van' 'bus' 'bus' 'opel' 'opel' 'bus' 'van' 'saab'\n",
            " 'van' 'bus' 'bus' 'van' 'bus' 'opel' 'opel' 'van' 'opel' 'bus' 'van'\n",
            " 'opel' 'saab' 'saab' 'van' 'bus' 'bus' 'bus' 'opel' 'bus' 'opel' 'saab'\n",
            " 'bus' 'saab' 'opel' 'opel' 'opel' 'van' 'bus' 'opel' 'saab' 'saab' 'bus'\n",
            " 'opel' 'bus' 'opel' 'saab' 'saab' 'bus' 'bus' 'opel' 'saab' 'van' 'opel'\n",
            " 'van' 'opel' 'van' 'bus' 'van' 'van' 'opel' 'opel' 'bus' 'van' 'bus'\n",
            " 'bus' 'bus' 'bus' 'van' 'opel' 'saab' 'opel' 'bus' 'bus' 'opel' 'saab'\n",
            " 'van']\n"
          ]
        }
      ]
    },
    {
      "cell_type": "markdown",
      "source": [
        "Calculando a acurácia do modelo:\n"
      ],
      "metadata": {
        "id": "xHH3RJj4VEop"
      }
    },
    {
      "cell_type": "code",
      "source": [
        "from sklearn.metrics import accuracy_score\n",
        "score = accuracy_score(y_pred, y_test)\n",
        "print('Accuracy:', score)\n",
        "\n",
        "BayesianoParamétrico = score\n",
        "#print(BayesianoParamétrico)"
      ],
      "metadata": {
        "colab": {
          "base_uri": "https://localhost:8080/"
        },
        "id": "exh5AesNVG_a",
        "outputId": "f5db8428-ad5f-40dd-b605-656337de5630"
      },
      "execution_count": null,
      "outputs": [
        {
          "output_type": "stream",
          "name": "stdout",
          "text": [
            "Accuracy: 0.8937007874015748\n",
            "0.8937007874015748\n"
          ]
        }
      ]
    },
    {
      "cell_type": "markdown",
      "source": [
        "# **Classificador Bayesiano não paramétrico**"
      ],
      "metadata": {
        "id": "FIRDBIiBVZrp"
      }
    },
    {
      "cell_type": "code",
      "source": [
        "vehicle = pd.read_csv('/content/Vehicle.csv', header=(0))\n",
        "\n",
        "classes = np.array(pd.unique(vehicle[vehicle.columns[-1]]), dtype=str)  "
      ],
      "metadata": {
        "id": "zg-MPh5gVeTr"
      },
      "execution_count": null,
      "outputs": []
    },
    {
      "cell_type": "markdown",
      "source": [
        "Converte para matriz e vetor do numpy:"
      ],
      "metadata": {
        "id": "ZuX8aa6iWdU7"
      }
    },
    {
      "cell_type": "code",
      "source": [
        "vehicle = vehicle.to_numpy()\n",
        "nrow,ncol = vehicle.shape\n",
        "y = vehicle[:,-1]\n",
        "X = vehicle[:,0:ncol-1]"
      ],
      "metadata": {
        "id": "RDtiU6-wWf37"
      },
      "execution_count": null,
      "outputs": []
    },
    {
      "cell_type": "markdown",
      "source": [
        "Transforma os dados para terem media igual a zero e variancia igual a 1"
      ],
      "metadata": {
        "id": "lEjiG7w7Wn0f"
      }
    },
    {
      "cell_type": "code",
      "source": [
        "scaler = StandardScaler().fit(X)\n",
        "X = scaler.transform(X)"
      ],
      "metadata": {
        "id": "4_WZiWGLWlUe"
      },
      "execution_count": null,
      "outputs": []
    },
    {
      "cell_type": "markdown",
      "source": [
        "Seleciona os conjuntos de treinamento e teste"
      ],
      "metadata": {
        "id": "baoQ_IZrWuiG"
      }
    },
    {
      "cell_type": "code",
      "source": [
        "p = 0.7 # fraction of elements in the training set\n",
        "x_train, x_test, y_train, y_test = train_test_split(X, y, train_size = p, random_state = 42)"
      ],
      "metadata": {
        "id": "HeED11NEWsLW"
      },
      "execution_count": null,
      "outputs": []
    },
    {
      "cell_type": "markdown",
      "source": [
        "Matriz que armazena as probabilidades para cada classe:"
      ],
      "metadata": {
        "id": "3UKyHawhW2XZ"
      }
    },
    {
      "cell_type": "code",
      "source": [
        "P = pd.DataFrame(data=np.zeros((x_test.shape[0], len(classes))), columns = classes) \n",
        "Pc = np.zeros(len(classes)) # Armaze a fracao de elementos em cada classe\n",
        "h = 2\n",
        "for i in np.arange(0, len(classes)): # Para cada classe\n",
        "    elements = tuple(np.where(y_train == classes[i])) # elmentos na classe i\n",
        "    Pc[i] = len(elements)/len(y_train) # Probabilidade pertencer a classe i\n",
        "    Z = x_train[elements,:][0].astype(float) # Elementos no conjunto de treinamento\n",
        "    kde = KernelDensity(kernel='gaussian', bandwidth=h).fit(Z)\n",
        "    for j in np.arange(0,x_test.shape[0]): # para cada observacao no conjunto de teste\n",
        "        x = x_test[j,:]\n",
        "        x = x.reshape((1,len(x)))\n",
        "        # calcula a probabilidade pertencer a cada classe\n",
        "        pj = np.exp(kde.score_samples(x)) \n",
        "        P[classes[i]][j] = pj*Pc[i]"
      ],
      "metadata": {
        "id": "NjuODkipW0Nh"
      },
      "execution_count": null,
      "outputs": []
    },
    {
      "cell_type": "markdown",
      "source": [
        "Vetor com as classes preditas"
      ],
      "metadata": {
        "id": "ReRGnzkaXCQa"
      }
    },
    {
      "cell_type": "code",
      "source": [
        "y_pred = [] \n",
        "for i in np.arange(0, x_test.shape[0]):\n",
        "    c = np.argmax(np.array(P.iloc[[i]]))\n",
        "    y_pred.append(classes[c])\n",
        "y_pred = np.array(y_pred, dtype=str)"
      ],
      "metadata": {
        "id": "p1_hyibmW9cA"
      },
      "execution_count": null,
      "outputs": []
    },
    {
      "cell_type": "markdown",
      "source": [
        "Calcula a acurácia"
      ],
      "metadata": {
        "id": "tekoV9RaXJY7"
      }
    },
    {
      "cell_type": "code",
      "source": [
        "score = accuracy_score(y_pred, y_test)\n",
        "print('Acuracia:', score)\n",
        "Bayesiano_não_paramétrico = score\n",
        "#print(Bayesiano_não_paramétrico)"
      ],
      "metadata": {
        "colab": {
          "base_uri": "https://localhost:8080/"
        },
        "id": "Z3udiqswXGIy",
        "outputId": "08ceca1f-5495-4ba7-db7d-143fd1aa2ec4"
      },
      "execution_count": null,
      "outputs": [
        {
          "output_type": "stream",
          "name": "stdout",
          "text": [
            "Acuracia: 0.6338582677165354\n",
            "0.6338582677165354\n"
          ]
        }
      ]
    },
    {
      "cell_type": "markdown",
      "source": [
        "# **Resultados**"
      ],
      "metadata": {
        "id": "KuuwA3KiZEN0"
      }
    },
    {
      "cell_type": "code",
      "source": [
        "modelo1 = 'K-vizinhos:                '\n",
        "modelo2 = 'Naive Bayes:              '\n",
        "modelo3 = 'Regressão logística:      '\n",
        "modelo4 = 'Bayesiano paramétrico:   '\n",
        "modelo5 = 'Bayesiano não paramétrico:'\n",
        "\n",
        "\n",
        "def criarTabela():\n",
        "  print('                    Resultados das acurácias')\n",
        "  print('--------------------------------------------------------------------')\n",
        "  print('%s\\t\\t\\t%f' % (modelo1, KNN))\n",
        "  print('%s\\t\\t\\t%f' % (modelo2, NaiveBayes))\n",
        "  print('%s\\t\\t\\t%f' % (modelo3, Regressãologística))\n",
        "  print('%s\\t\\t\\t%f' % (modelo4, BayesianoParamétrico))\n",
        "  print('%s\\t\\t\\t%f' % (modelo5, Bayesiano_não_paramétrico))\n",
        "\n",
        "criarTabela()  "
      ],
      "metadata": {
        "colab": {
          "base_uri": "https://localhost:8080/"
        },
        "id": "6SbB2eJfZG2r",
        "outputId": "0d67f3f5-2173-4d53-cea9-dafb9023ff65"
      },
      "execution_count": null,
      "outputs": [
        {
          "output_type": "stream",
          "name": "stdout",
          "text": [
            "                    Resultados das acurácias\n",
            "--------------------------------------------------------------------\n",
            "K-vizinhos:                \t\t\t0.633858\n",
            "Naive Bayes:              \t\t\t0.452756\n",
            "Regressão logística:      \t\t\t0.775717\n",
            "Bayesiano paramétrico:   \t\t\t0.893701\n",
            "Bayesiano não paramétrico:\t\t\t0.633858\n"
          ]
        }
      ]
    },
    {
      "cell_type": "markdown",
      "source": [
        "Diante dos resultados, podemos concluir que o melhor classificador é o **Classificador Bayesiano paramétrico**, pois obteve uma acurácia de aproximadamente 0,89. Sabemos que quanto maior o nível de acuracidade, mais próximo da referência ou valor real é o resultado encontrado."
      ],
      "metadata": {
        "id": "cxXUvVJTfsN_"
      }
    },
    {
      "cell_type": "markdown",
      "source": [
        "**2-** Considerando a base de dados “winequality-red”, encontre o valor do hiperparâmetro h que \n",
        "oferece a maior acurácia no Bayesino não-paramétrico"
      ],
      "metadata": {
        "id": "okEkl4GNiSxw"
      }
    },
    {
      "cell_type": "code",
      "source": [
        "data = pd.read_csv('/content/winequality-red.csv', header=(0))\n",
        "#display(data)\n",
        "\n",
        "df = pd.DataFrame(data)\n",
        "\n",
        "classes = np.array(pd.unique(data[data.columns[-1]]), dtype=str)  \n",
        "# Converte para matriz e vetor do numpy\n",
        "data = data.to_numpy()\n",
        "nrow,ncol = data.shape\n",
        "y = data[:,-1]\n",
        "X = data[:,0:ncol-1]\n",
        "\n",
        "# Transforma os dados para terem media igual a zero e variancia igual a 1\n",
        "scaler = StandardScaler().fit(X)\n",
        "X = scaler.transform(X)\n",
        "\n",
        "# Seleciona os conjuntos de treinamento e teste\n",
        "p = 0.7 # fraction of elements in the test set\n",
        "x_train, x_test, y_train, y_test = train_test_split(X, y, train_size = p, random_state = 42)\n",
        "\n",
        "####  Realiza a classificacao ####\n",
        "\n",
        "vacc = []\n",
        "vh = [0.001,0.005,0.01,0.02,0.03,0.04, 0.05, 0.1, 0.2, 0.5, 1, 2,3,4, 5,6,7,9]\n",
        "plt.figure(figsize=(12,4))\n",
        "for h in vh:\n",
        "    # Matriz que armazena as probabilidades para cada classe\n",
        "    P = pd.DataFrame(data=np.zeros((x_train.shape[0], len(classes))), columns = classes) \n",
        "    Pc = np.zeros(len(classes)) # Armaze a fracao de elementos em cada classe\n",
        "    for i in np.arange(0, len(classes)): # Para cada classe\n",
        "        elements = tuple(np.where(y_train == int(classes[i]))) # elmentos na classe i\n",
        "        Pc[i] = len(elements)/len(y_train) # Probabilidade pertencer a classe i\n",
        "        Z = x_train[elements,:][0].astype(int) # Elementos no conjunto de treinamento\n",
        "        kde = KernelDensity(kernel='gaussian', bandwidth=h).fit(Z)\n",
        "        for j in np.arange(0,x_test.shape[0]): # para cada observacao no conjunto de teste\n",
        "            x = x_test[j,:]\n",
        "            x = x.reshape((1,len(x)))\n",
        "            # calcula a probabilidade pertencer a cada classe\n",
        "            pj = np.exp(kde.score_samples(x)) \n",
        "            P[classes[i]][j] = pj*Pc[i]\n",
        "\n",
        "    y_pred = [] # Vetor com as classes preditas\n",
        "    for i in np.arange(0, x_test.shape[0]):\n",
        "        c = np.argmax(np.array(P.iloc[[i]]))\n",
        "        y_pred.append(classes[c])\n",
        "    y_pred = np.array(y_pred, dtype=int)\n",
        "    # calcula a acuracia\n",
        "    score = accuracy_score(y_pred, y_test)\n",
        "    vacc.append(score)\n",
        "    #print('Acuracia:', score)\n",
        "\n",
        "im  = vacc.index(max(vacc))\n",
        "print(f'Hiperparâmetro h que possui maior accuracy: {vh[im]}')\n",
        "    \n",
        "plt.plot(vh,vacc, 'o-', color = '#000080', linewidth=2)\n",
        "plt.xlabel('h', fontsize = 15)\n",
        "plt.ylabel('Acurácia)', fontsize = 15)\n",
        "plt.grid(True)\n",
        "plt.show(True)"
      ],
      "metadata": {
        "colab": {
          "base_uri": "https://localhost:8080/",
          "height": 301
        },
        "id": "YK7vX0NDjX6g",
        "outputId": "fa8255be-0754-4fc9-a623-9df548916292"
      },
      "execution_count": 10,
      "outputs": [
        {
          "output_type": "stream",
          "name": "stdout",
          "text": [
            "Hiperparâmetro h que possui maior accuracy: 0.04\n"
          ]
        },
        {
          "output_type": "display_data",
          "data": {
            "text/plain": [
              "<Figure size 864x288 with 1 Axes>"
            ],
            "image/png": "[encoded data removed]"
          },
          "metadata": {
            "needs_background": "light"
          }
        }
      ]
    },
    {
      "cell_type": "markdown",
      "source": [
        "**3-** Faça a classificação dos dados gerados artificialmente com o código abaixo. Compare os resultados para os métodos Naive Bayes, Classificador Bayesiano paramétrico e o classificador Bayesiano não-paramétrico (escolha um valor para h)."
      ],
      "metadata": {
        "id": "IlwiOVldZ24o"
      }
    },
    {
      "cell_type": "code",
      "source": [
        "plt.figure(figsize=(6,4))\n",
        "n_samples = 1000\n",
        "data = datasets.make_moons(n_samples=n_samples, noise=.5)\n",
        "X = data[0]\n",
        "y = data[1]\n",
        "plt.scatter(X[:,0], X[:,1], c=y, cmap='viridis', s=50, alpha=0.7)\n",
        "plt.show(True)\n"
      ],
      "metadata": {
        "colab": {
          "base_uri": "https://localhost:8080/",
          "height": 265
        },
        "id": "uzC7jM2XcuKu",
        "outputId": "a5409df0-7a86-4849-e02f-19b42b45b5ad"
      },
      "execution_count": 11,
      "outputs": [
        {
          "output_type": "display_data",
          "data": {
            "text/plain": [
              "<Figure size 432x288 with 1 Axes>"
            ],
            "image/png": "[encoded data removed]"
          },
          "metadata": {
            "needs_background": "light"
          }
        }
      ]
    },
    {
      "cell_type": "markdown",
      "source": [
        "# **Naive Bayes**"
      ],
      "metadata": {
        "id": "96mg1pXCdQBw"
      }
    },
    {
      "cell_type": "markdown",
      "source": [
        "Selecionando os conjuntos de treinamento e teste."
      ],
      "metadata": {
        "id": "vWHFGxD9d7ML"
      }
    },
    {
      "cell_type": "code",
      "source": [
        "p = 0.7 # fracao de elementos no conjunto de treinamento\n",
        "X_train, X_test, y_train, y_test = train_test_split(X, y, train_size = p, random_state = 42)"
      ],
      "metadata": {
        "id": "944dm2U7dUow"
      },
      "execution_count": 15,
      "outputs": []
    },
    {
      "cell_type": "markdown",
      "source": [
        "definindo uma função para calcular a função de verossimilhança."
      ],
      "metadata": {
        "id": "ToLDRRBFeDCJ"
      }
    },
    {
      "cell_type": "code",
      "source": [
        "def likelyhood(y, Z):\n",
        "    def gaussian(x, mu, sig):\n",
        "        p = (1/np.sqrt(2*np.pi*sig))*np.exp((-1/2)*((x-mu)/sig)**2)\n",
        "        return p \n",
        "    lk = 1\n",
        "    for j in np.arange(0, Z.shape[1]):\n",
        "        m = np.mean(Z[:,j])\n",
        "        s = np.std(Z[:,j])      \n",
        "        lk = lk*gaussian(y[j], m, s)\n",
        "    return lk"
      ],
      "metadata": {
        "id": "9wH16FP6eDb-"
      },
      "execution_count": 16,
      "outputs": []
    },
    {
      "cell_type": "markdown",
      "source": [
        "realizamos a estimação para cada classe:"
      ],
      "metadata": {
        "id": "czbXiJ9deOnO"
      }
    },
    {
      "cell_type": "code",
      "source": [
        "P = pd.DataFrame(data=np.zeros((X_test.shape[0], len(classes))), columns = classes) \n",
        "for i in np.arange(0, len(classes)):\n",
        "    elements = tuple(np.where(y_train == classes[i]))\n",
        "    Z = X_train[elements,:][0]\n",
        "    for j in np.arange(0,X_test.shape[0]):\n",
        "        x = X_test[j,:]\n",
        "        pj = likelyhood(x,Z)\n",
        "        priori = len(elements)/X_train.shape[0]\n",
        "        P[classes[i]][j] = pj*priori"
      ],
      "metadata": {
        "colab": {
          "base_uri": "https://localhost:8080/"
        },
        "id": "a4KNba4keQnP",
        "outputId": "36496322-9c08-40fc-e5cf-7a2c3ab82036"
      },
      "execution_count": 17,
      "outputs": [
        {
          "output_type": "stream",
          "name": "stderr",
          "text": [
            "/usr/local/lib/python3.7/dist-packages/ipykernel_launcher.py:3: FutureWarning: elementwise comparison failed; returning scalar instead, but in the future will perform elementwise comparison\n",
            "  This is separate from the ipykernel package so we can avoid doing imports until\n",
            "/usr/local/lib/python3.7/dist-packages/numpy/core/_methods.py:189: RuntimeWarning: invalid value encountered in double_scalars\n",
            "  ret = ret.dtype.type(ret / rcount)\n",
            "/usr/local/lib/python3.7/dist-packages/numpy/core/_methods.py:263: RuntimeWarning: Degrees of freedom <= 0 for slice\n",
            "  keepdims=keepdims, where=where)\n",
            "/usr/local/lib/python3.7/dist-packages/numpy/core/_methods.py:223: RuntimeWarning: invalid value encountered in true_divide\n",
            "  subok=False)\n",
            "/usr/local/lib/python3.7/dist-packages/numpy/core/_methods.py:254: RuntimeWarning: invalid value encountered in double_scalars\n",
            "  ret = ret.dtype.type(ret / rcount)\n"
          ]
        }
      ]
    },
    {
      "cell_type": "code",
      "source": [
        "#Matriz de probabilidade\n",
        "P = pd.DataFrame(data=np.zeros((X_test.shape[0], len(classes))), columns = classes) \n",
        "Pc = np.zeros(len(classes)) #fraction of elements in each class\n",
        "for i in np.arange(0, len(classes)):\n",
        "    elements = np.array(np.where(y_train == classes[i]))\n",
        "    Pc[i] = elements.shape[1]/len(y_train)\n",
        "    Z = X_train[elements,:][0].astype(float)\n",
        "    m = np.mean(Z, axis = 0)\n",
        "    cv = np.cov(np.transpose(Z))\n",
        "    for j in np.arange(0,X_test.shape[0]):\n",
        "        x = X_test[j,:]\n",
        "        pj = multivariate_normal.pdf(x, mean=m, cov=cv, allow_singular=True)\n",
        "        P[classes[i]][j] = pj*Pc[i]\n",
        "\n",
        "y_pred1 = []\n",
        "#np.array(test_x.shape[0], dtype=str)\n",
        "for i in np.arange(0, X_test.shape[0]):\n",
        "    c = np.argmax(np.array(P.iloc[[i]]))\n",
        "    y_pred1.append(classes[c])\n",
        "y_pred1 = np.array(y_pred1)\n",
        "y_test = np.array(y_test)\n",
        "\n",
        "from sklearn.metrics import accuracy_score\n",
        "score1 = accuracy_score(y_pred1, y_test)\n",
        "print('Accuracy (bayes classifier)', score1)\n",
        "\n",
        "# Matriz que armazena as probabilidades para cada classe\n",
        "P = pd.DataFrame(data=np.zeros((X_test.shape[0], len(classes))), columns = classes) \n",
        "Pc = np.zeros(len(classes)) # Armaze a fracao de elementos em cada classe\n",
        "h = 0.5\n",
        "for i in np.arange(0, len(classes)): # Para cada classe\n",
        "    elements = tuple(np.where(y_train == classes[i])) # elmentos na classe i\n",
        "    Pc[i] = len(elements)/len(y_train) # Probabilidade pertencer a classe i\n",
        "    Z = X_train[elements,:][0].astype(float) # Elementos no conjunto de treinamento\n",
        "    kde = KernelDensity(kernel='gaussian', bandwidth=h).fit(Z)\n",
        "    for j in np.arange(0,X_test.shape[0]): # para cada observacao no conjunto de teste\n",
        "        x = X_test[j,:]\n",
        "        x = x.reshape((1,len(x)))\n",
        "        # calcula a probabilidade pertencer a cada classe\n",
        "        pj = np.exp(kde.score_samples(x)) \n",
        "        P[classes[i]][j] = pj*Pc[i]\n",
        "        \n",
        "y_pred = [] # Vetor com as classes preditas\n",
        "for i in np.arange(0, X_test.shape[0]):\n",
        "    c = np.argmax(np.array(P.iloc[[i]]))\n",
        "    y_pred.append(classes[c])\n",
        "y_pred = np.array(y_pred, dtype=str)\n",
        "# calcula a acuracia\n",
        "\n",
        "y_test_conv = np.char.mod('%d', y_test)\n",
        "\n",
        "score2 = accuracy_score(y_pred, y_test_conv)\n",
        "print('Accuracy (non parametric bayes classifier)', score2)\n",
        "\n",
        "# Matriz que armazena as probabilidades para cada classe\n",
        "P = pd.DataFrame(data=np.zeros((X_test.shape[0], len(classes))), columns = classes) \n",
        "for i in np.arange(0, len(classes)):\n",
        "    elements = tuple(np.where(y_train == classes[i]))\n",
        "    Z = X_train[elements,:][0]\n",
        "    for j in np.arange(0,X_test.shape[0]):\n",
        "        x = X_test[j,:]\n",
        "        pj = likelihood(x,Z)\n",
        "        priori = len(elements)/X_train.shape[0]\n",
        "        P[classes[i]][j] = pj*priori\n",
        "P.head(10)\n",
        "        \n",
        "from sklearn.metrics import accuracy_score\n",
        "\n",
        "y_pred2 = []\n",
        "for i in np.arange(0, P.shape[0]):\n",
        "    c = np.argmax(np.array(P.iloc[[i]]))\n",
        "    y_pred2.append(P.columns[c])\n",
        "y_pred2 = np.array(y_pred2, dtype=str)\n",
        "\n",
        "y_test_conv2 = np.char.mod('%d', y_test)\n",
        "\n",
        "score3 = accuracy_score(y_pred2, y_test_conv2)\n",
        "print('Accuracy (Naive Bayes):', score3)"
      ],
      "metadata": {
        "colab": {
          "base_uri": "https://localhost:8080/",
          "height": 470
        },
        "id": "XbFHLiAmsjFz",
        "outputId": "02596a0f-cd0b-4f40-e453-3bb2fe712ef5"
      },
      "execution_count": 18,
      "outputs": [
        {
          "output_type": "stream",
          "name": "stderr",
          "text": [
            "/usr/local/lib/python3.7/dist-packages/ipykernel_launcher.py:5: FutureWarning: elementwise comparison failed; returning scalar instead, but in the future will perform elementwise comparison\n",
            "  \"\"\"\n",
            "/usr/local/lib/python3.7/dist-packages/ipykernel_launcher.py:9: RuntimeWarning: Degrees of freedom <= 0 for slice\n",
            "  if __name__ == '__main__':\n"
          ]
        },
        {
          "output_type": "error",
          "ename": "ValueError",
          "evalue": "ignored",
          "traceback": [
            "\u001b[0;31m---------------------------------------------------------------------------\u001b[0m",
            "\u001b[0;31mValueError\u001b[0m                                Traceback (most recent call last)",
            "\u001b[0;32m<ipython-input-18-6da60aa24be7>\u001b[0m in \u001b[0;36m<module>\u001b[0;34m\u001b[0m\n\u001b[1;32m     10\u001b[0m     \u001b[0;32mfor\u001b[0m \u001b[0mj\u001b[0m \u001b[0;32min\u001b[0m \u001b[0mnp\u001b[0m\u001b[0;34m.\u001b[0m\u001b[0marange\u001b[0m\u001b[0;34m(\u001b[0m\u001b[0;36m0\u001b[0m\u001b[0;34m,\u001b[0m\u001b[0mX_test\u001b[0m\u001b[0;34m.\u001b[0m\u001b[0mshape\u001b[0m\u001b[0;34m[\u001b[0m\u001b[0;36m0\u001b[0m\u001b[0;34m]\u001b[0m\u001b[0;34m)\u001b[0m\u001b[0;34m:\u001b[0m\u001b[0;34m\u001b[0m\u001b[0;34m\u001b[0m\u001b[0m\n\u001b[1;32m     11\u001b[0m         \u001b[0mx\u001b[0m \u001b[0;34m=\u001b[0m \u001b[0mX_test\u001b[0m\u001b[0;34m[\u001b[0m\u001b[0mj\u001b[0m\u001b[0;34m,\u001b[0m\u001b[0;34m:\u001b[0m\u001b[0;34m]\u001b[0m\u001b[0;34m\u001b[0m\u001b[0;34m\u001b[0m\u001b[0m\n\u001b[0;32m---> 12\u001b[0;31m         \u001b[0mpj\u001b[0m \u001b[0;34m=\u001b[0m \u001b[0mmultivariate_normal\u001b[0m\u001b[0;34m.\u001b[0m\u001b[0mpdf\u001b[0m\u001b[0;34m(\u001b[0m\u001b[0mx\u001b[0m\u001b[0;34m,\u001b[0m \u001b[0mmean\u001b[0m\u001b[0;34m=\u001b[0m\u001b[0mm\u001b[0m\u001b[0;34m,\u001b[0m \u001b[0mcov\u001b[0m\u001b[0;34m=\u001b[0m\u001b[0mcv\u001b[0m\u001b[0;34m,\u001b[0m \u001b[0mallow_singular\u001b[0m\u001b[0;34m=\u001b[0m\u001b[0;32mTrue\u001b[0m\u001b[0;34m)\u001b[0m\u001b[0;34m\u001b[0m\u001b[0;34m\u001b[0m\u001b[0m\n\u001b[0m\u001b[1;32m     13\u001b[0m         \u001b[0mP\u001b[0m\u001b[0;34m[\u001b[0m\u001b[0mclasses\u001b[0m\u001b[0;34m[\u001b[0m\u001b[0mi\u001b[0m\u001b[0;34m]\u001b[0m\u001b[0;34m]\u001b[0m\u001b[0;34m[\u001b[0m\u001b[0mj\u001b[0m\u001b[0;34m]\u001b[0m \u001b[0;34m=\u001b[0m \u001b[0mpj\u001b[0m\u001b[0;34m*\u001b[0m\u001b[0mPc\u001b[0m\u001b[0;34m[\u001b[0m\u001b[0mi\u001b[0m\u001b[0;34m]\u001b[0m\u001b[0;34m\u001b[0m\u001b[0;34m\u001b[0m\u001b[0m\n\u001b[1;32m     14\u001b[0m \u001b[0;34m\u001b[0m\u001b[0m\n",
            "\u001b[0;32m/usr/local/lib/python3.7/dist-packages/scipy/stats/_multivariate.py\u001b[0m in \u001b[0;36mpdf\u001b[0;34m(self, x, mean, cov, allow_singular)\u001b[0m\n\u001b[1;32m    514\u001b[0m         \u001b[0mdim\u001b[0m\u001b[0;34m,\u001b[0m \u001b[0mmean\u001b[0m\u001b[0;34m,\u001b[0m \u001b[0mcov\u001b[0m \u001b[0;34m=\u001b[0m \u001b[0mself\u001b[0m\u001b[0;34m.\u001b[0m\u001b[0m_process_parameters\u001b[0m\u001b[0;34m(\u001b[0m\u001b[0;32mNone\u001b[0m\u001b[0;34m,\u001b[0m \u001b[0mmean\u001b[0m\u001b[0;34m,\u001b[0m \u001b[0mcov\u001b[0m\u001b[0;34m)\u001b[0m\u001b[0;34m\u001b[0m\u001b[0;34m\u001b[0m\u001b[0m\n\u001b[1;32m    515\u001b[0m         \u001b[0mx\u001b[0m \u001b[0;34m=\u001b[0m \u001b[0mself\u001b[0m\u001b[0;34m.\u001b[0m\u001b[0m_process_quantiles\u001b[0m\u001b[0;34m(\u001b[0m\u001b[0mx\u001b[0m\u001b[0;34m,\u001b[0m \u001b[0mdim\u001b[0m\u001b[0;34m)\u001b[0m\u001b[0;34m\u001b[0m\u001b[0;34m\u001b[0m\u001b[0m\n\u001b[0;32m--> 516\u001b[0;31m         \u001b[0mpsd\u001b[0m \u001b[0;34m=\u001b[0m \u001b[0m_PSD\u001b[0m\u001b[0;34m(\u001b[0m\u001b[0mcov\u001b[0m\u001b[0;34m,\u001b[0m \u001b[0mallow_singular\u001b[0m\u001b[0;34m=\u001b[0m\u001b[0mallow_singular\u001b[0m\u001b[0;34m)\u001b[0m\u001b[0;34m\u001b[0m\u001b[0;34m\u001b[0m\u001b[0m\n\u001b[0m\u001b[1;32m    517\u001b[0m         \u001b[0mout\u001b[0m \u001b[0;34m=\u001b[0m \u001b[0mnp\u001b[0m\u001b[0;34m.\u001b[0m\u001b[0mexp\u001b[0m\u001b[0;34m(\u001b[0m\u001b[0mself\u001b[0m\u001b[0;34m.\u001b[0m\u001b[0m_logpdf\u001b[0m\u001b[0;34m(\u001b[0m\u001b[0mx\u001b[0m\u001b[0;34m,\u001b[0m \u001b[0mmean\u001b[0m\u001b[0;34m,\u001b[0m \u001b[0mpsd\u001b[0m\u001b[0;34m.\u001b[0m\u001b[0mU\u001b[0m\u001b[0;34m,\u001b[0m \u001b[0mpsd\u001b[0m\u001b[0;34m.\u001b[0m\u001b[0mlog_pdet\u001b[0m\u001b[0;34m,\u001b[0m \u001b[0mpsd\u001b[0m\u001b[0;34m.\u001b[0m\u001b[0mrank\u001b[0m\u001b[0;34m)\u001b[0m\u001b[0;34m)\u001b[0m\u001b[0;34m\u001b[0m\u001b[0;34m\u001b[0m\u001b[0m\n\u001b[1;32m    518\u001b[0m         \u001b[0;32mreturn\u001b[0m \u001b[0m_squeeze_output\u001b[0m\u001b[0;34m(\u001b[0m\u001b[0mout\u001b[0m\u001b[0;34m)\u001b[0m\u001b[0;34m\u001b[0m\u001b[0;34m\u001b[0m\u001b[0m\n",
            "\u001b[0;32m/usr/local/lib/python3.7/dist-packages/scipy/stats/_multivariate.py\u001b[0m in \u001b[0;36m__init__\u001b[0;34m(self, M, cond, rcond, lower, check_finite, allow_singular)\u001b[0m\n\u001b[1;32m    156\u001b[0m         \u001b[0;31m# Note that eigh takes care of array conversion, chkfinite,\u001b[0m\u001b[0;34m\u001b[0m\u001b[0;34m\u001b[0m\u001b[0;34m\u001b[0m\u001b[0m\n\u001b[1;32m    157\u001b[0m         \u001b[0;31m# and assertion that the matrix is square.\u001b[0m\u001b[0;34m\u001b[0m\u001b[0;34m\u001b[0m\u001b[0;34m\u001b[0m\u001b[0m\n\u001b[0;32m--> 158\u001b[0;31m         \u001b[0ms\u001b[0m\u001b[0;34m,\u001b[0m \u001b[0mu\u001b[0m \u001b[0;34m=\u001b[0m \u001b[0mscipy\u001b[0m\u001b[0;34m.\u001b[0m\u001b[0mlinalg\u001b[0m\u001b[0;34m.\u001b[0m\u001b[0meigh\u001b[0m\u001b[0;34m(\u001b[0m\u001b[0mM\u001b[0m\u001b[0;34m,\u001b[0m \u001b[0mlower\u001b[0m\u001b[0;34m=\u001b[0m\u001b[0mlower\u001b[0m\u001b[0;34m,\u001b[0m \u001b[0mcheck_finite\u001b[0m\u001b[0;34m=\u001b[0m\u001b[0mcheck_finite\u001b[0m\u001b[0;34m)\u001b[0m\u001b[0;34m\u001b[0m\u001b[0;34m\u001b[0m\u001b[0m\n\u001b[0m\u001b[1;32m    159\u001b[0m \u001b[0;34m\u001b[0m\u001b[0m\n\u001b[1;32m    160\u001b[0m         \u001b[0meps\u001b[0m \u001b[0;34m=\u001b[0m \u001b[0m_eigvalsh_to_eps\u001b[0m\u001b[0;34m(\u001b[0m\u001b[0ms\u001b[0m\u001b[0;34m,\u001b[0m \u001b[0mcond\u001b[0m\u001b[0;34m,\u001b[0m \u001b[0mrcond\u001b[0m\u001b[0;34m)\u001b[0m\u001b[0;34m\u001b[0m\u001b[0;34m\u001b[0m\u001b[0m\n",
            "\u001b[0;32m/usr/local/lib/python3.7/dist-packages/scipy/linalg/decomp.py\u001b[0m in \u001b[0;36meigh\u001b[0;34m(a, b, lower, eigvals_only, overwrite_a, overwrite_b, turbo, eigvals, type, check_finite, subset_by_index, subset_by_value, driver)\u001b[0m\n\u001b[1;32m    443\u001b[0m                          ''.format(driver, '\", \"'.join(drv_str[1:])))\n\u001b[1;32m    444\u001b[0m \u001b[0;34m\u001b[0m\u001b[0m\n\u001b[0;32m--> 445\u001b[0;31m     \u001b[0ma1\u001b[0m \u001b[0;34m=\u001b[0m \u001b[0m_asarray_validated\u001b[0m\u001b[0;34m(\u001b[0m\u001b[0ma\u001b[0m\u001b[0;34m,\u001b[0m \u001b[0mcheck_finite\u001b[0m\u001b[0;34m=\u001b[0m\u001b[0mcheck_finite\u001b[0m\u001b[0;34m)\u001b[0m\u001b[0;34m\u001b[0m\u001b[0;34m\u001b[0m\u001b[0m\n\u001b[0m\u001b[1;32m    446\u001b[0m     \u001b[0;32mif\u001b[0m \u001b[0mlen\u001b[0m\u001b[0;34m(\u001b[0m\u001b[0ma1\u001b[0m\u001b[0;34m.\u001b[0m\u001b[0mshape\u001b[0m\u001b[0;34m)\u001b[0m \u001b[0;34m!=\u001b[0m \u001b[0;36m2\u001b[0m \u001b[0;32mor\u001b[0m \u001b[0ma1\u001b[0m\u001b[0;34m.\u001b[0m\u001b[0mshape\u001b[0m\u001b[0;34m[\u001b[0m\u001b[0;36m0\u001b[0m\u001b[0;34m]\u001b[0m \u001b[0;34m!=\u001b[0m \u001b[0ma1\u001b[0m\u001b[0;34m.\u001b[0m\u001b[0mshape\u001b[0m\u001b[0;34m[\u001b[0m\u001b[0;36m1\u001b[0m\u001b[0;34m]\u001b[0m\u001b[0;34m:\u001b[0m\u001b[0;34m\u001b[0m\u001b[0;34m\u001b[0m\u001b[0m\n\u001b[1;32m    447\u001b[0m         \u001b[0;32mraise\u001b[0m \u001b[0mValueError\u001b[0m\u001b[0;34m(\u001b[0m\u001b[0;34m'expected square \"a\" matrix'\u001b[0m\u001b[0;34m)\u001b[0m\u001b[0;34m\u001b[0m\u001b[0;34m\u001b[0m\u001b[0m\n",
            "\u001b[0;32m/usr/local/lib/python3.7/dist-packages/scipy/_lib/_util.py\u001b[0m in \u001b[0;36m_asarray_validated\u001b[0;34m(a, check_finite, sparse_ok, objects_ok, mask_ok, as_inexact)\u001b[0m\n\u001b[1;32m    291\u001b[0m             \u001b[0;32mraise\u001b[0m \u001b[0mValueError\u001b[0m\u001b[0;34m(\u001b[0m\u001b[0;34m'masked arrays are not supported'\u001b[0m\u001b[0;34m)\u001b[0m\u001b[0;34m\u001b[0m\u001b[0;34m\u001b[0m\u001b[0m\n\u001b[1;32m    292\u001b[0m     \u001b[0mtoarray\u001b[0m \u001b[0;34m=\u001b[0m \u001b[0mnp\u001b[0m\u001b[0;34m.\u001b[0m\u001b[0masarray_chkfinite\u001b[0m \u001b[0;32mif\u001b[0m \u001b[0mcheck_finite\u001b[0m \u001b[0;32melse\u001b[0m \u001b[0mnp\u001b[0m\u001b[0;34m.\u001b[0m\u001b[0masarray\u001b[0m\u001b[0;34m\u001b[0m\u001b[0;34m\u001b[0m\u001b[0m\n\u001b[0;32m--> 293\u001b[0;31m     \u001b[0ma\u001b[0m \u001b[0;34m=\u001b[0m \u001b[0mtoarray\u001b[0m\u001b[0;34m(\u001b[0m\u001b[0ma\u001b[0m\u001b[0;34m)\u001b[0m\u001b[0;34m\u001b[0m\u001b[0;34m\u001b[0m\u001b[0m\n\u001b[0m\u001b[1;32m    294\u001b[0m     \u001b[0;32mif\u001b[0m \u001b[0;32mnot\u001b[0m \u001b[0mobjects_ok\u001b[0m\u001b[0;34m:\u001b[0m\u001b[0;34m\u001b[0m\u001b[0;34m\u001b[0m\u001b[0m\n\u001b[1;32m    295\u001b[0m         \u001b[0;32mif\u001b[0m \u001b[0ma\u001b[0m\u001b[0;34m.\u001b[0m\u001b[0mdtype\u001b[0m \u001b[0;32mis\u001b[0m \u001b[0mnp\u001b[0m\u001b[0;34m.\u001b[0m\u001b[0mdtype\u001b[0m\u001b[0;34m(\u001b[0m\u001b[0;34m'O'\u001b[0m\u001b[0;34m)\u001b[0m\u001b[0;34m:\u001b[0m\u001b[0;34m\u001b[0m\u001b[0;34m\u001b[0m\u001b[0m\n",
            "\u001b[0;32m/usr/local/lib/python3.7/dist-packages/numpy/lib/function_base.py\u001b[0m in \u001b[0;36masarray_chkfinite\u001b[0;34m(a, dtype, order)\u001b[0m\n\u001b[1;32m    487\u001b[0m     \u001b[0;32mif\u001b[0m \u001b[0ma\u001b[0m\u001b[0;34m.\u001b[0m\u001b[0mdtype\u001b[0m\u001b[0;34m.\u001b[0m\u001b[0mchar\u001b[0m \u001b[0;32min\u001b[0m \u001b[0mtypecodes\u001b[0m\u001b[0;34m[\u001b[0m\u001b[0;34m'AllFloat'\u001b[0m\u001b[0;34m]\u001b[0m \u001b[0;32mand\u001b[0m \u001b[0;32mnot\u001b[0m \u001b[0mnp\u001b[0m\u001b[0;34m.\u001b[0m\u001b[0misfinite\u001b[0m\u001b[0;34m(\u001b[0m\u001b[0ma\u001b[0m\u001b[0;34m)\u001b[0m\u001b[0;34m.\u001b[0m\u001b[0mall\u001b[0m\u001b[0;34m(\u001b[0m\u001b[0;34m)\u001b[0m\u001b[0;34m:\u001b[0m\u001b[0;34m\u001b[0m\u001b[0;34m\u001b[0m\u001b[0m\n\u001b[1;32m    488\u001b[0m         raise ValueError(\n\u001b[0;32m--> 489\u001b[0;31m             \"array must not contain infs or NaNs\")\n\u001b[0m\u001b[1;32m    490\u001b[0m     \u001b[0;32mreturn\u001b[0m \u001b[0ma\u001b[0m\u001b[0;34m\u001b[0m\u001b[0;34m\u001b[0m\u001b[0m\n\u001b[1;32m    491\u001b[0m \u001b[0;34m\u001b[0m\u001b[0m\n",
            "\u001b[0;31mValueError\u001b[0m: array must not contain infs or NaNs"
          ]
        }
      ]
    }
  ]
}
